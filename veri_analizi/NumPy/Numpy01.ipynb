{
 "cells": [
  {
   "cell_type": "markdown",
   "id": "29a68feb-a60d-442e-b3b9-23c5e835578f",
   "metadata": {},
   "source": [
    "#Goal: Get the number of rows and columns from the user. Create a 2D array with increasing numbers according to these dimensions. Filter out the odd and even numbers."
   ]
  },
  {
   "cell_type": "code",
   "execution_count": 16,
   "id": "c10ee3f8-710e-468c-9254-e80a7b40f2e9",
   "metadata": {},
   "outputs": [],
   "source": [
    "import random \n",
    "import numpy as np"
   ]
  },
  {
   "cell_type": "code",
   "execution_count": 38,
   "id": "5ccff183-a639-46b3-9acc-ffa756f8734a",
   "metadata": {},
   "outputs": [
    {
     "name": "stdin",
     "output_type": "stream",
     "text": [
      "Enter the number of row 5\n",
      "Enter the number of column 3\n"
     ]
    }
   ],
   "source": [
    "row=int(input(\"Enter the number of row\"))\n",
    "column=int(input(\"Enter the number of column\"))"
   ]
  },
  {
   "cell_type": "code",
   "execution_count": 90,
   "id": "e43f72ed-57c1-437d-816d-6dcbe781b140",
   "metadata": {},
   "outputs": [],
   "source": [
    "random_numbers_count=row*column\n",
    "numbers=np.arange(random_numbers_count)\n",
    "# arange() is preferred over randint() here to maintain sequential order randint would generate random integers, which breaks the consistent structure we need.\n",
    "# arange() is preferred over linspace() here to ensure integer outputs linspace generates evenly spaced values, but returns floats by default, which may not fit integer-based logic."
   ]
  },
  {
   "cell_type": "code",
   "execution_count": 64,
   "id": "b01f528f-18bb-4ace-a22f-d3879507dea2",
   "metadata": {},
   "outputs": [],
   "source": [
    "array_2D=numbers.reshape((5,3)) #Since reshpe does not affect the original array, it is assigned to the variable"
   ]
  },
  {
   "cell_type": "code",
   "execution_count": 106,
   "id": "658b1803-6977-4c8e-b7c1-ac08456a1ac0",
   "metadata": {},
   "outputs": [
    {
     "name": "stdout",
     "output_type": "stream",
     "text": [
      "[ 0  3  6  9 12]\n"
     ]
    }
   ],
   "source": [
    "print(array_2D[array_2D % 3 == 0])\n",
    "# This line filters the array_2D and prints only the elements that are divisible by 3.\n",
    "# It uses boolean indexing: array_2D % 3 == 0 creates a mask of True/False values\n"
   ]
  },
  {
   "cell_type": "code",
   "execution_count": 108,
   "id": "cb40cc1a-3a81-485b-ad10-933c28b19c62",
   "metadata": {},
   "outputs": [
    {
     "name": "stdout",
     "output_type": "stream",
     "text": [
      "[ 0  2  4  6  8 10 12 14]\n"
     ]
    }
   ],
   "source": [
    "print(array_2D[array_2D % 2 == 0])"
   ]
  },
  {
   "cell_type": "code",
   "execution_count": 118,
   "id": "540cd4b5-cfa4-49c8-b416-8b8c05614136",
   "metadata": {},
   "outputs": [
    {
     "name": "stdout",
     "output_type": "stream",
     "text": [
      "[ 0  6 12]\n"
     ]
    }
   ],
   "source": [
    "print(array_2D[(array_2D % 2 == 0 ) & (array_2D % 3==0)])\n",
    "# We use '&' instead of 'and' because we are performing element-wise logical operations on arrays."
   ]
  },
  {
   "cell_type": "code",
   "execution_count": null,
   "id": "0d76e9ec-f209-4336-8039-7dad0352f622",
   "metadata": {},
   "outputs": [],
   "source": []
  }
 ],
 "metadata": {
  "kernelspec": {
   "display_name": "Python 3 (ipykernel)",
   "language": "python",
   "name": "python3"
  },
  "language_info": {
   "codemirror_mode": {
    "name": "ipython",
    "version": 3
   },
   "file_extension": ".py",
   "mimetype": "text/x-python",
   "name": "python",
   "nbconvert_exporter": "python",
   "pygments_lexer": "ipython3",
   "version": "3.11.7"
  }
 },
 "nbformat": 4,
 "nbformat_minor": 5
}
